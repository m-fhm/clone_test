{
  "nbformat": 4,
  "nbformat_minor": 0,
  "metadata": {
    "colab": {
      "provenance": []
    },
    "kernelspec": {
      "name": "python3",
      "display_name": "Python 3"
    },
    "language_info": {
      "name": "python"
    }
  },
  "cells": [
    {
      "cell_type": "code",
      "execution_count": null,
      "metadata": {
        "colab": {
          "base_uri": "https://localhost:8080/"
        },
        "id": "42TsXJ9kgtFa",
        "outputId": "14b2de2e-47f3-4036-ef2b-e5180b127fd3"
      },
      "outputs": [
        {
          "output_type": "stream",
          "name": "stdout",
          "text": [
            "[4, 8]\n",
            "<class 'range'>\n"
          ]
        }
      ],
      "source": [
        "     #data types\n",
        "# 1.numeric\n",
        "  # a. intege: 345, -45\n",
        "  # b. float: 2.20, -43.0\n",
        "  # c. complex: 34 + 4j\n",
        "# 2.string: 'alex', \"we are learning python\", \"\"\"python is commom language\"\"\", \"23\"\n",
        "# 3.boolean: True, False\n",
        "# 4. sequence/collections:\n",
        "  # List:\n",
        "  #     ages = [23,34,40,34,45]\n",
        "  # tuple:\n",
        "  #    items = (23,45,67,445,4)\n",
        "  # range():\n",
        "  #     range(10)\n",
        "# Dictionary\n",
        "# Set\n",
        "\n",
        "# range(start,end,step)\n",
        "ages = range(4)\n",
        "ages = range(4, 10)\n",
        "ages = range(4, 10, 4)\n",
        "print(list(ages))\n",
        "print(type(ages))"
      ]
    },
    {
      "cell_type": "code",
      "source": [
        "#"
      ],
      "metadata": {
        "id": "yzWo6BmnjveD"
      },
      "execution_count": null,
      "outputs": []
    },
    {
      "cell_type": "markdown",
      "source": [],
      "metadata": {
        "id": "yxwaPTytjw8d"
      }
    }
  ]
}